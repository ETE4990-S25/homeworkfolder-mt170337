{
 "cells": [
  {
   "cell_type": "markdown",
   "id": "abfb9ed7-bb94-48c3-88f0-6693f26b3f7c",
   "metadata": {},
   "source": [
    "# Lab 3 - Files and Functions Maggie Tapia and Alex Land\n"
   ]
  },
  {
   "cell_type": "markdown",
   "id": "5dd841b5-4e31-428c-a56b-5a74f1aa8c75",
   "metadata": {},
   "source": [
    "## Warm-up \n",
    "\n",
    "Part 1:\n",
    "Write a python file that can be imported.\n",
    "\n",
    "\n"
   ]
  },
  {
   "cell_type": "code",
   "execution_count": 9,
   "id": "9916dca4-e082-47ba-957a-d285cd0abce0",
   "metadata": {},
   "outputs": [
    {
     "name": "stdout",
     "output_type": "stream",
     "text": [
      "i am your father\n"
     ]
    }
   ],
   "source": [
    "\n",
    "def who_is_my_father():\n",
    "    print(\"darth vader says\")\n",
    "print(\"i am your father\")"
   ]
  },
  {
   "cell_type": "markdown",
   "id": "5935273d",
   "metadata": {},
   "source": [
    "\n",
    "Part 2: \n",
    "Using the following as a starting point create a python file that will take in a a name and\n",
    "a list of names and tell you if that name is in the list."
   ]
  },
  {
   "cell_type": "code",
   "execution_count": 10,
   "id": "64949662",
   "metadata": {},
   "outputs": [
    {
     "name": "stdout",
     "output_type": "stream",
     "text": [
      "name is in list\n",
      "name not in list\n"
     ]
    },
    {
     "data": {
      "text/plain": [
       "False"
      ]
     },
     "execution_count": 10,
     "metadata": {},
     "output_type": "execute_result"
    }
   ],
   "source": [
    "def is_name_in_list(name,listofnames):\n",
    "    if name in listofnames:\n",
    "        print(\"name is in list\")\n",
    "        return True\n",
    "    print(\"name not in list\")\n",
    "    return False\n",
    "\n",
    "nameslist = [\"alex\", \"maggie\", \"chris\", \"jeremey\"]\n",
    "\n",
    "is_name_in_list(\"alex\", nameslist)\n",
    "\n",
    "is_name_in_list(\"john\", nameslist)\n"
   ]
  },
  {
   "cell_type": "markdown",
   "id": "bc4fbb46-483b-479b-97d5-82e2dc7f4346",
   "metadata": {},
   "source": [
    "# Main Lab\n",
    "\n",
    "Take time to begin working with your partner on your project. Begin to plan out how you would like your game to feel. Remember this is a text-based game. This can be any game you would like \n",
    "\n",
    "    Please stay away from games or software like poker or 21 as these tend to be boring to code and hard to add more to later on, and obviously games that may get you reported by the university.\n",
    "\n",
    "\n",
    "## Part 1:\n",
    "\n",
    "Divide up your code and begin  writing the code.\n",
    "\n",
    "Keep in mind that when you write your code you will need to be interfacing with your partners code, loading in your player, tools/items/etc, interfacing with the world, monsters and so on. So plan accordingly.\n",
    "\n",
    "\n",
    "While we have not gotten to classes take some time to try and code some simple classes. \n",
    "Here is an example:\n",
    "```python \n",
    "\n",
    "#Good\n",
    "class Sharps(object):\n",
    "    \"\"\"Create a sharp weapon\"\"\"\n",
    "    def __init__(self, name, length, age=1, damage=0):\n",
    "        \"\"\" Initialize name, age, and length damage attributes.\"\"\"\n",
    "        self.name = name\n",
    "        self.age = age\n",
    "        self.length = length\n",
    "        self.damage = damage\n",
    "    def do_damage(self, target):\n",
    "        target = target - self.damage\n",
    "\n",
    "class dager(Sharps):\n",
    "    \"\"\" makes a dager\"\"\"\n",
    "    def __init__(self, name, length, age=1, damage=0):\n",
    "        \"\"\"sets up a dagger\"\"\"\n",
    "        super().__init__(self, name, length, age, damage))\n",
    "        self.poision = True\n",
    "```\n",
    "        \n",
    "\n"
   ]
  },
  {
   "cell_type": "code",
   "execution_count": 7,
   "id": "73b92c92",
   "metadata": {},
   "outputs": [
    {
     "name": "stderr",
     "output_type": "stream",
     "text": [
      "<>:55: SyntaxWarning: 'str' object is not callable; perhaps you missed a comma?\n",
      "<>:55: SyntaxWarning: 'str' object is not callable; perhaps you missed a comma?\n",
      "/var/folders/9m/ck7rg4fd7tj3jslhrjdkl3tw0000gn/T/ipykernel_7256/3528178632.py:55: SyntaxWarning: 'str' object is not callable; perhaps you missed a comma?\n",
      "  probability_of_hit = 1 / (1 + math.exp(\"\"\"add a scaler to tune\"\"\"(speed_diff)))\n"
     ]
    }
   ],
   "source": [
    "# alexs code\n",
    "import math\n",
    "import random\n",
    "\n",
    "\n",
    "class spells(object):\n",
    "    \"\"\"Creates spells for wizard\n",
    "    spells have a damage value and an element\"\"\"\n",
    "    def __init__(self,name,damage,element):\n",
    "        self.name = name\n",
    "        self.damage = damage\n",
    "        self.element = element\n",
    "\n",
    "    def attack(self, enemy):\n",
    "        \"\"\"deals damage to enemy depending on elemental weakness\"\"\"\n",
    "        if self.element == enemy.weakness:\n",
    "            enemy.health -= self.damage*1.5\n",
    "        else:\n",
    "            enemy.health -= self.damage\n",
    "\n",
    "class enemy(object):\n",
    "    \"\"\"creates enemy\"\"\"\n",
    "    def __init__(self,name,health,weakness,damage,speed,speech=None):\n",
    "        self.name = name\n",
    "        self.health = health\n",
    "        self.weakness = weakness\n",
    "        self.damage = damage\n",
    "        self.speed = speed\n",
    "        self.speech = speech\n",
    "\n",
    "    def attack(self,player):\n",
    "        \"\"\"attacks player, speed calculations will be done elsewhere\"\"\"\n",
    "        player.health -= self.damage\n",
    "\n",
    "    def speak(self):\n",
    "        \"\"\"prints the saved line that the creature would say\"\"\"\n",
    "        print(\"\\\"\", self.speech,\"\\\"\")\n",
    "\n",
    "\n",
    "#maggies code \n",
    "\n",
    "class weapons(object):\n",
    "    \"\"\"creates weapon for warrior\"\"\"\n",
    "    def init(self, name, damage, speed):\n",
    "        self.name = name\n",
    "        self.damage_type = damage\n",
    "        self.damage = damage\n",
    "        self.speed = speed\n",
    "\n",
    "    def attack(self, enemy):\n",
    "        enemy -= self.damage\n",
    "        \n",
    "        speed_diff = self.speed - enemy.speed\n",
    "        if speed_diff > 0:\n",
    "            probability_of_hit = 1 / (1 + math.exp(\"\"\"add a scaler to tune\"\"\"(speed_diff)))\n",
    "            if probability_of_hit*100 > random.randint(1,100):\n",
    "                enemy -= self.damage\n",
    "        # if speed difference is great enough the weapon has a chance to hit twice.\n",
    "\n",
    "\n",
    "class player(object):\n",
    "    \"\"\"creates player object\"\"\"\n",
    "    def init(self, name, health, damage):\n",
    "        self.name = name\n",
    "        self.health = health\n",
    "        self.damage = damage     "
   ]
  },
  {
   "cell_type": "code",
   "execution_count": 8,
   "id": "4d73941f",
   "metadata": {},
   "outputs": [
    {
     "name": "stdout",
     "output_type": "stream",
     "text": [
      "Dragon's remaining health: 55.0\n",
      "Dragon's remaining health: 25.0\n"
     ]
    }
   ],
   "source": [
    "# example code using the classes from chat\n",
    "\n",
    "\n",
    "dragon = enemy(\"Dragon\", 100, \"fire\", 20, 10)\n",
    "\n",
    "# Create a spell (fire element, 30 damage)\n",
    "fireball = spells(\"Fireball\", 30, \"fire\")\n",
    "\n",
    "# Cast the fireball on the dragon\n",
    "fireball.attack(dragon)\n",
    "print(f\"{dragon.name}'s remaining health: {dragon.health}\")\n",
    "\n",
    "# Create another spell (water element, 30 damage)\n",
    "waterblast = spells(\"Waterblast\", 30, \"water\")\n",
    "\n",
    "# Cast the waterblast on the dragon\n",
    "waterblast.attack(dragon)\n",
    "print(f\"{dragon.name}'s remaining health: {dragon.health}\")"
   ]
  }
 ],
 "metadata": {
  "kernelspec": {
   "display_name": "Python 3",
   "language": "python",
   "name": "python3"
  },
  "language_info": {
   "codemirror_mode": {
    "name": "ipython",
    "version": 3
   },
   "file_extension": ".py",
   "mimetype": "text/x-python",
   "name": "python",
   "nbconvert_exporter": "python",
   "pygments_lexer": "ipython3",
   "version": "3.9.6"
  }
 },
 "nbformat": 4,
 "nbformat_minor": 5
}
