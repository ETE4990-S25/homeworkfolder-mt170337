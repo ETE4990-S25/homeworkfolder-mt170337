{
 "cells": [
  {
   "cell_type": "markdown",
   "id": "0209af47-6b8d-4f34-8292-aa79deef5088",
   "metadata": {},
   "source": [
    "# Lab 2 - Refactoring\n",
    "## Refactoring is:\n",
    "\n",
    "Refactoring is the process of restructuring or rewriting code, while not changing its original functionality. The goal of refactoring is to improve internal code by making many small changes without altering the code's external behavior. \n",
    "\n",
    "It is easier said than done. "
   ]
  },
  {
   "cell_type": "markdown",
   "id": "f470981d-7433-42f0-a742-a9ddeae57056",
   "metadata": {},
   "source": [
    "### Part 1 - Warm-up\n",
    "\n",
    "You will refactor the following code:"
   ]
  },
  {
   "cell_type": "code",
   "execution_count": 2,
   "id": "b817e22e-46ae-4dfe-9a38-c3d3e818168b",
   "metadata": {},
   "outputs": [
    {
     "name": "stdout",
     "output_type": "stream",
     "text": [
      "Enter a number:  1\n"
     ]
    },
    {
     "name": "stdout",
     "output_type": "stream",
     "text": [
      "5 is more than 1\n"
     ]
    }
   ],
   "source": [
    "#stolen from https://realpython.com/python-refactoring/\n",
    "#yes you can go there and look at what they did no do it yourself\n",
    "x = 5\n",
    "value = input(\"Enter a number: \")\n",
    "y = int(value)\n",
    "if x < y:\n",
    "    print(f\"{x} is less than {y}\")\n",
    "elif x == y:\n",
    "    print(f\"{x} is equal to {y}\")\n",
    "else:\n",
    "    print(f\"{x} is more than {y}\")"
   ]
  },
  {
   "cell_type": "code",
   "execution_count": 53,
   "id": "033cf53c-96bc-4174-813d-09ad088787d6",
   "metadata": {},
   "outputs": [
    {
     "name": "stdout",
     "output_type": "stream",
     "text": [
      "5 is more than 2\n"
     ]
    }
   ],
   "source": [
    "x = 5; y = int(input(\"Enter a number:\"))\n",
    "equality = \"is equal to\" if x == y else \"is less than\" if x < y else \"is more than\"\n",
    "print(f\"{x} {equality} {y}\")\n"
   ]
  },
  {
   "cell_type": "markdown",
   "id": "bb9edc37-9bd7-4b4a-8ec1-d1465d85be37",
   "metadata": {},
   "source": [
    "## Part 2\n",
    "Refactor the following"
   ]
  },
  {
   "cell_type": "code",
   "execution_count": null,
   "id": "733c4d16-c02c-4058-9cb6-4b751c86dc93",
   "metadata": {},
   "outputs": [],
   "source": [
    "def a(x, y):\n",
    "    if x == \"wizard\":\n",
    "        if y == \"fireball\":\n",
    "            return \"casts fireball\"\n",
    "        elif y == \"lightning\":\n",
    "            return \"casts lightning\"\n",
    "        else:\n",
    "            return \"does nothing\"\n",
    "    elif x == \"warrior\":\n",
    "        if y == \"slash\":\n",
    "            return \"slashes with sword\"\n",
    "        elif y == \"bash\":\n",
    "            return \"bashes with shield\"\n",
    "        else:\n",
    "            return \"does nothing\"\n",
    "    else:\n",
    "        return \"does nothing\"\n",
    "\n",
    "def b(z):\n",
    "    for i in range(10):\n",
    "        if z == \"dragon\":\n",
    "            return \"fights dragon\"\n",
    "        elif z == \"goblin\":\n",
    "            return \"fights goblin\"\n",
    "        elif z == \"orc\":\n",
    "            return \"fights orc\"\n",
    "        else:\n",
    "            return \"does nothing\"\n",
    "\n",
    "def c():\n",
    "    for i in range(5):\n",
    "        print(\"exploring dungeon\")\n",
    "    for j in range(5):\n",
    "        print(\"finding treasure\")\n",
    "\n",
    "def main():\n",
    "    print(a(\"wizard\", \"fireball\"))\n",
    "    print(a(\"warrior\", \"slash\"))\n",
    "    print(b(\"dragon\"))\n",
    "    c()\n"
   ]
  },
  {
   "cell_type": "code",
   "execution_count": 98,
   "metadata": {},
   "outputs": [
    {
     "name": "stdout",
     "output_type": "stream",
     "text": [
      "2 you have bashed with a shield 5\n",
      "None\n",
      "2 you have bashed with a shield 5\n",
      "None\n"
     ]
    },
    {
     "ename": "KeyboardInterrupt",
     "evalue": "Interrupted by user",
     "output_type": "error",
     "traceback": [
      "\u001b[0;31m---------------------------------------------------------------------------\u001b[0m",
      "\u001b[0;31mKeyboardInterrupt\u001b[0m                         Traceback (most recent call last)",
      "Cell \u001b[0;32mIn[98], line 31\u001b[0m\n\u001b[1;32m     28\u001b[0m     c()\n\u001b[1;32m     30\u001b[0m \u001b[38;5;28;01mif\u001b[39;00m \u001b[38;5;18m__name__\u001b[39m \u001b[38;5;241m==\u001b[39m \u001b[38;5;124m\"\u001b[39m\u001b[38;5;124m__main__\u001b[39m\u001b[38;5;124m\"\u001b[39m:\n\u001b[0;32m---> 31\u001b[0m     \u001b[43mmain\u001b[49m\u001b[43m(\u001b[49m\u001b[43m)\u001b[49m\n",
      "Cell \u001b[0;32mIn[98], line 27\u001b[0m, in \u001b[0;36mmain\u001b[0;34m()\u001b[0m\n\u001b[1;32m     25\u001b[0m \u001b[38;5;28mprint\u001b[39m(a(\u001b[38;5;124m\"\u001b[39m\u001b[38;5;124mwizard\u001b[39m\u001b[38;5;124m\"\u001b[39m, \u001b[38;5;124m\"\u001b[39m\u001b[38;5;124mfireball\u001b[39m\u001b[38;5;124m\"\u001b[39m))\n\u001b[1;32m     26\u001b[0m \u001b[38;5;28mprint\u001b[39m(a(\u001b[38;5;124m\"\u001b[39m\u001b[38;5;124mwarrior\u001b[39m\u001b[38;5;124m\"\u001b[39m, \u001b[38;5;124m\"\u001b[39m\u001b[38;5;124mslash\u001b[39m\u001b[38;5;124m\"\u001b[39m))\n\u001b[0;32m---> 27\u001b[0m \u001b[38;5;28mprint\u001b[39m(\u001b[43mb\u001b[49m\u001b[43m(\u001b[49m\u001b[38;5;124;43m\"\u001b[39;49m\u001b[38;5;124;43mdragon\u001b[39;49m\u001b[38;5;124;43m\"\u001b[39;49m\u001b[43m)\u001b[49m)\n\u001b[1;32m     28\u001b[0m c()\n",
      "Cell \u001b[0;32mIn[98], line 15\u001b[0m, in \u001b[0;36mb\u001b[0;34m(z)\u001b[0m\n\u001b[1;32m     13\u001b[0m \u001b[38;5;28;01mdef\u001b[39;00m\u001b[38;5;250m \u001b[39m\u001b[38;5;21mb\u001b[39m(z):\n\u001b[1;32m     14\u001b[0m    \u001b[38;5;28;01mfor\u001b[39;00m i \u001b[38;5;129;01min\u001b[39;00m \u001b[38;5;28mrange\u001b[39m(\u001b[38;5;241m10\u001b[39m):\n\u001b[0;32m---> 15\u001b[0m         x \u001b[38;5;241m=\u001b[39m \u001b[38;5;28mint\u001b[39m(\u001b[38;5;28;43minput\u001b[39;49m\u001b[43m(\u001b[49m\u001b[38;5;124;43m\"\u001b[39;49m\u001b[38;5;124;43mEnter the opponent of attack: 1 for dragon , 2 for goblin or 3 for orc\u001b[39;49m\u001b[38;5;124;43m\"\u001b[39;49m\u001b[43m)\u001b[49m)\n\u001b[1;32m     16\u001b[0m         equality \u001b[38;5;241m=\u001b[39m \u001b[38;5;124m\"\u001b[39m\u001b[38;5;124myou opponent is a goblin: FIGHT!\u001b[39m\u001b[38;5;124m\"\u001b[39m \u001b[38;5;28;01mif\u001b[39;00m x \u001b[38;5;241m==\u001b[39m \u001b[38;5;241m2\u001b[39m \u001b[38;5;28;01melse\u001b[39;00m \u001b[38;5;124m\"\u001b[39m\u001b[38;5;124myou opponent is dragon: FIGHT!\u001b[39m\u001b[38;5;124m\"\u001b[39m \u001b[38;5;28;01mif\u001b[39;00m x \u001b[38;5;241m==\u001b[39m \u001b[38;5;241m1\u001b[39m \u001b[38;5;28;01melse\u001b[39;00m \u001b[38;5;124m\"\u001b[39m\u001b[38;5;124myour opponent is orc: FIGHT!\u001b[39m\u001b[38;5;124m\"\u001b[39m\n\u001b[1;32m     18\u001b[0m         \u001b[38;5;28mprint\u001b[39m(\u001b[38;5;124mf\u001b[39m\u001b[38;5;124m\"\u001b[39m\u001b[38;5;132;01m{\u001b[39;00mx\u001b[38;5;132;01m}\u001b[39;00m\u001b[38;5;124m \u001b[39m\u001b[38;5;132;01m{\u001b[39;00mequality\u001b[38;5;132;01m}\u001b[39;00m\u001b[38;5;124m \u001b[39m\u001b[38;5;132;01m{\u001b[39;00my\u001b[38;5;132;01m}\u001b[39;00m\u001b[38;5;124m\"\u001b[39m)\n",
      "File \u001b[0;32m~/Library/Python/3.9/lib/python/site-packages/ipykernel/kernelbase.py:1282\u001b[0m, in \u001b[0;36mKernel.raw_input\u001b[0;34m(self, prompt)\u001b[0m\n\u001b[1;32m   1280\u001b[0m     msg \u001b[38;5;241m=\u001b[39m \u001b[38;5;124m\"\u001b[39m\u001b[38;5;124mraw_input was called, but this frontend does not support input requests.\u001b[39m\u001b[38;5;124m\"\u001b[39m\n\u001b[1;32m   1281\u001b[0m     \u001b[38;5;28;01mraise\u001b[39;00m StdinNotImplementedError(msg)\n\u001b[0;32m-> 1282\u001b[0m \u001b[38;5;28;01mreturn\u001b[39;00m \u001b[38;5;28;43mself\u001b[39;49m\u001b[38;5;241;43m.\u001b[39;49m\u001b[43m_input_request\u001b[49m\u001b[43m(\u001b[49m\n\u001b[1;32m   1283\u001b[0m \u001b[43m    \u001b[49m\u001b[38;5;28;43mstr\u001b[39;49m\u001b[43m(\u001b[49m\u001b[43mprompt\u001b[49m\u001b[43m)\u001b[49m\u001b[43m,\u001b[49m\n\u001b[1;32m   1284\u001b[0m \u001b[43m    \u001b[49m\u001b[38;5;28;43mself\u001b[39;49m\u001b[38;5;241;43m.\u001b[39;49m\u001b[43m_parent_ident\u001b[49m\u001b[43m[\u001b[49m\u001b[38;5;124;43m\"\u001b[39;49m\u001b[38;5;124;43mshell\u001b[39;49m\u001b[38;5;124;43m\"\u001b[39;49m\u001b[43m]\u001b[49m\u001b[43m,\u001b[49m\n\u001b[1;32m   1285\u001b[0m \u001b[43m    \u001b[49m\u001b[38;5;28;43mself\u001b[39;49m\u001b[38;5;241;43m.\u001b[39;49m\u001b[43mget_parent\u001b[49m\u001b[43m(\u001b[49m\u001b[38;5;124;43m\"\u001b[39;49m\u001b[38;5;124;43mshell\u001b[39;49m\u001b[38;5;124;43m\"\u001b[39;49m\u001b[43m)\u001b[49m\u001b[43m,\u001b[49m\n\u001b[1;32m   1286\u001b[0m \u001b[43m    \u001b[49m\u001b[43mpassword\u001b[49m\u001b[38;5;241;43m=\u001b[39;49m\u001b[38;5;28;43;01mFalse\u001b[39;49;00m\u001b[43m,\u001b[49m\n\u001b[1;32m   1287\u001b[0m \u001b[43m\u001b[49m\u001b[43m)\u001b[49m\n",
      "File \u001b[0;32m~/Library/Python/3.9/lib/python/site-packages/ipykernel/kernelbase.py:1325\u001b[0m, in \u001b[0;36mKernel._input_request\u001b[0;34m(self, prompt, ident, parent, password)\u001b[0m\n\u001b[1;32m   1322\u001b[0m \u001b[38;5;28;01mexcept\u001b[39;00m \u001b[38;5;167;01mKeyboardInterrupt\u001b[39;00m:\n\u001b[1;32m   1323\u001b[0m     \u001b[38;5;66;03m# re-raise KeyboardInterrupt, to truncate traceback\u001b[39;00m\n\u001b[1;32m   1324\u001b[0m     msg \u001b[38;5;241m=\u001b[39m \u001b[38;5;124m\"\u001b[39m\u001b[38;5;124mInterrupted by user\u001b[39m\u001b[38;5;124m\"\u001b[39m\n\u001b[0;32m-> 1325\u001b[0m     \u001b[38;5;28;01mraise\u001b[39;00m \u001b[38;5;167;01mKeyboardInterrupt\u001b[39;00m(msg) \u001b[38;5;28;01mfrom\u001b[39;00m\u001b[38;5;250m \u001b[39m\u001b[38;5;28;01mNone\u001b[39;00m\n\u001b[1;32m   1326\u001b[0m \u001b[38;5;28;01mexcept\u001b[39;00m \u001b[38;5;167;01mException\u001b[39;00m:\n\u001b[1;32m   1327\u001b[0m     \u001b[38;5;28mself\u001b[39m\u001b[38;5;241m.\u001b[39mlog\u001b[38;5;241m.\u001b[39mwarning(\u001b[38;5;124m\"\u001b[39m\u001b[38;5;124mInvalid Message:\u001b[39m\u001b[38;5;124m\"\u001b[39m, exc_info\u001b[38;5;241m=\u001b[39m\u001b[38;5;28;01mTrue\u001b[39;00m)\n",
      "\u001b[0;31mKeyboardInterrupt\u001b[0m: Interrupted by user"
     ]
    }
   ],
   "source": [
    "def a(x, y):\n",
    "    x = int(input(\"Enter your position: 1 for wizard, or 2 for warrior: \"))\n",
    "    equality = \"you are now a wizard\" if x == 1 else \"you are now the warrior\"\n",
    "     \n",
    "    x = 1; y= int(input(\"Enter a 1 to cast fireball, 2 to cast lightning, 0 to skip action: \"))\n",
    "    equality = \"you have casted wizard, chose your action of attack\" if x==y else \"you have casted fireball\" if y == 1 else \"you have casted lightning\"  if y == 2 else \"you have done nothing\" \n",
    "   \n",
    "    x = 2; y= int(input(\"Enter 4 to slash, 5 to bash, 0 to skip action: \"))\n",
    "    equality = \"you are now a warrior, chose your action of attack\" if x==y else \"you have slashed with a sword\" if y == 4 else \"you have bashed with a shield\" if y == 5 else \"you have done nothing\" \n",
    "\n",
    "    print(f\"{x} {equality} {y}\")\n",
    "\n",
    "def b(z):\n",
    "   for i in range(10):\n",
    "        x = int(input(\"Enter the opponent of attack: 1 for dragon , 2 for goblin or 3 for orc\"))\n",
    "        equality = \"your opponent is a goblin: FIGHT!\" if x == 2 else \"your opponent is dragon: FIGHT!\" if x == 1 else \"your opponent is orc: FIGHT!\"\n",
    "\n",
    "        print(f\"{x} {equality} {y}\")\n",
    "   \n",
    "def c():\n",
    "   print(\"exploring dungeon\"*5 + \"finding treasure\"*5)\n",
    "       \n",
    "      \n",
    "def main():\n",
    "    print(a(\"wizard\", \"fireball\"))\n",
    "    print(a(\"warrior\", \"slash\"))\n",
    "    print(b(\"dragon\"))\n",
    "    c()\n",
    "\n",
    "if __name__ == \"__main__\":\n",
    "    main()"
   ]
  },
  {
   "cell_type": "code",
   "execution_count": null,
   "id": "e97c3e40",
   "metadata": {},
   "outputs": [],
   "source": []
  },
  {
   "cell_type": "markdown",
   "metadata": {},
   "source": [
    "# Part 3\n",
    "Refactor your partners lab 1 code so it is a clean function. Look at part 4 and see how you can adapt the code to fit project one. "
   ]
  },
  {
   "cell_type": "code",
   "execution_count": null,
   "metadata": {},
   "outputs": [],
   "source": [
    "# put your refactored code here"
   ]
  },
  {
   "cell_type": "markdown",
   "id": "e589c6c8-f937-47e0-8db2-a37e03c12336",
   "metadata": {},
   "source": [
    "## Part 4 - take home but start in class                  \n",
    "# Project #1  introduction \n",
    "\n",
    "\n",
    "Your task is to develop a text-based video game focusing on the player profile, inventory system, and combat mechanics. Create a realistic player character with at least 10 inventory items, each with a description and an associated trait. Enjoy the process!\n",
    "\n",
    "Incorporate all the concepts we've covered so far, including files (read and write), JSON, operators, lists, optional tuples, functions, modules, and classes.\n",
    "\n",
    "### Requirements:\n",
    "- **Player Type Selection**: Allow players to choose their character type. Set attributes based on the choice (e.g., wizard: magic = 10, knight: magic = 0).\n",
    "- **Inventory Display**: Implement a function to show the player's inventory.\n",
    "- **Item Details**: Write a function to provide detailed information about an inventory item (e.g., Knife: \"forged in the depths of Polymar\", +5 magic, edged weapon, one-handed).\n",
    "  - Bonus: Calculate bonuses when equipping and unequipping items.\n",
    "- **Inventory Management**: Create functions to add and remove items from the inventory.\n",
    "- **Persistence**: Ensure the game can save and reload the player's character using files.\n",
    "\n",
    "Focus on building the player and inventory system for your text-based adventure game (similar to Zork). The map and gameplay can be developed later.\n",
    "\n",
    "### Game Features:\n",
    "- **Player Profile**: Include player stats.\n",
    "- **Inventory System**: Implement a bag to hold items.\n",
    "- **Items**: Include 10 items, each with a description and trait (e.g., +5 magic).\n",
    "- **Concepts**: Utilize functions, loops, arrays, classes, and constants. You may also use files and structs if desired.\n",
    "- **Player Type Selection**: Allow players to choose their character type and set attributes accordingly (e.g., wizard: magic = 10, knight: magic = 0).\n",
    "- **Inventory Display**: Implement a function to show the player's inventory.\n",
    "- **Code Quality**: Keep your code clean and consider various player needs, as this project will be handed off to a partner for further development.\n",
    "\n"
   ]
  },
  {
   "cell_type": "markdown",
   "id": "1fe3ba5e-722b-4ed8-b36f-c9ebd718bd7d",
   "metadata": {},
   "source": [
    "# Project 1 - Part 1\n",
    "Spend time planning out your code. You may work with your partner to plan out your code. How would you like your game to play? \n",
    "\n",
    "Use a UML planner like: \n",
    "\n",
    "\n",
    "https://miro.com/\n"
   ]
  },
  {
   "cell_type": "code",
   "execution_count": null,
   "id": "3bdce5be-0a31-4cf9-ba17-0f5be8cefc33",
   "metadata": {},
   "outputs": [],
   "source": []
  }
 ],
 "metadata": {
  "kernelspec": {
   "display_name": "Python 3",
   "language": "python",
   "name": "python3"
  },
  "language_info": {
   "codemirror_mode": {
    "name": "ipython",
    "version": 3
   },
   "file_extension": ".py",
   "mimetype": "text/x-python",
   "name": "python",
   "nbconvert_exporter": "python",
   "pygments_lexer": "ipython3",
   "version": "3.9.6"
  }
 },
 "nbformat": 4,
 "nbformat_minor": 5
}
