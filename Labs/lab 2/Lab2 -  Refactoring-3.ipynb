{
 "cells": [
  {
   "cell_type": "markdown",
   "id": "0209af47-6b8d-4f34-8292-aa79deef5088",
   "metadata": {},
   "source": [
    "# Lab 2 - Refactoring\n",
    "## Refactoring is:\n",
    "\n",
    "Refactoring is the process of restructuring or rewriting code, while not changing its original functionality. The goal of refactoring is to improve internal code by making many small changes without altering the code's external behavior. \n",
    "\n",
    "It is easier said than done. "
   ]
  },
  {
   "cell_type": "markdown",
   "id": "f470981d-7433-42f0-a742-a9ddeae57056",
   "metadata": {},
   "source": [
    "### Part 1 - Warm-up\n",
    "\n",
    "You will refactor the following code:"
   ]
  },
  {
   "cell_type": "code",
   "execution_count": null,
   "id": "b817e22e-46ae-4dfe-9a38-c3d3e818168b",
   "metadata": {},
   "outputs": [],
   "source": [
    "#stolen from https://realpython.com/python-refactoring/\n",
    "#yes you can go there and look at what they did no do it yourself\n",
    "x = 5\n",
    "value = input(\"Enter a number: \")\n",
    "y = int(value)\n",
    "if x < y:\n",
    "    print(f\"{x} is less than {y}\")\n",
    "elif x == y:\n",
    "    print(f\"{x} is equal to {y}\")\n",
    "else:\n",
    "    print(f\"{x} is more than {y}\")"
   ]
  },
  {
   "cell_type": "code",
   "execution_count": null,
   "id": "033cf53c-96bc-4174-813d-09ad088787d6",
   "metadata": {},
   "outputs": [],
   "source": [
    "x = 5; y = int(input(\"Enter a number:\"))\n",
    "equality = \"is equal to\" if x == y else \"is less than\" if x < y else \"is more than\"\n",
    "print(f\"{x} {equality} {y}\")\n"
   ]
  },
  {
   "cell_type": "markdown",
   "id": "bb9edc37-9bd7-4b4a-8ec1-d1465d85be37",
   "metadata": {},
   "source": [
    "## Part 2\n",
    "Refactor the following"
   ]
  },
  {
   "cell_type": "code",
   "execution_count": null,
   "id": "733c4d16-c02c-4058-9cb6-4b751c86dc93",
   "metadata": {},
   "outputs": [],
   "source": [
    "def a(x, y):\n",
    "    if x == \"wizard\":\n",
    "        if y == \"fireball\":\n",
    "            return \"casts fireball\"\n",
    "        elif y == \"lightning\":\n",
    "            return \"casts lightning\"\n",
    "        else:\n",
    "            return \"does nothing\"\n",
    "    elif x == \"warrior\":\n",
    "        if y == \"slash\":\n",
    "            return \"slashes with sword\"\n",
    "        elif y == \"bash\":\n",
    "            return \"bashes with shield\"\n",
    "        else:\n",
    "            return \"does nothing\"\n",
    "    else:\n",
    "        return \"does nothing\"\n",
    "\n",
    "def b(z):\n",
    "    for i in range(10):\n",
    "        if z == \"dragon\":\n",
    "            return \"fights dragon\"\n",
    "        elif z == \"goblin\":\n",
    "            return \"fights goblin\"\n",
    "        elif z == \"orc\":\n",
    "            return \"fights orc\"\n",
    "        else:\n",
    "            return \"does nothing\"\n",
    "\n",
    "def c():\n",
    "    for i in range(5):\n",
    "        print(\"exploring dungeon\")\n",
    "    for j in range(5):\n",
    "        print(\"finding treasure\")\n",
    "\n",
    "def main():\n",
    "    print(a(\"wizard\", \"fireball\"))\n",
    "    print(a(\"warrior\", \"slash\"))\n",
    "    print(b(\"dragon\"))\n",
    "    c()\n"
   ]
  },
  {
   "cell_type": "code",
   "execution_count": null,
   "metadata": {},
   "outputs": [],
   "source": [
    "def choose_character():\n",
    "    x = int(input(\"Enter your position: 1 for wizard, or 2 for warrior: \"))\n",
    "    \n",
    "    if x == 1:\n",
    "        print(\"You are now a wizard!\")\n",
    "        return \"wizard\"\n",
    "    elif x == 2:\n",
    "        print(\"You are now a warrior!\")\n",
    "        return \"warrior\"\n",
    "    else:\n",
    "        print(\"Invalid choice, defaulting to warrior.\")\n",
    "        return \"warrior\"\n",
    "\n",
    "def choose_enemy():\n",
    "    x = int(input(\"Enter your opponent: 1 for dragon, 2 for goblin, 3 for orc: \"))\n",
    "\n",
    "    if x == 1:\n",
    "        print(\"Your opponent is a dragon! FIGHT!\")\n",
    "        return \"dragon\"\n",
    "    elif x == 2:\n",
    "        print(\"Your opponent is a goblin! FIGHT!\")\n",
    "        return \"goblin\"\n",
    "    elif x == 3:\n",
    "        print(\"Your opponent is an orc! FIGHT!\")\n",
    "        return \"orc\"\n",
    "    else:\n",
    "        print(\"Invalid choice, defaulting to goblin.\")\n",
    "        return \"goblin\"\n",
    "\n",
    "def attack(character):\n",
    "    if character == \"wizard\":\n",
    "        y = int(input(\"Enter 1 to cast fireball, 2 to cast lightning, 0 to skip action: \"))\n",
    "        if y == 1:\n",
    "            print(\"You have cast Fireball!\")\n",
    "        elif y == 2:\n",
    "            print(\"You have cast Lightning!\")\n",
    "        else:\n",
    "            print(\"You have done nothing.\")\n",
    "    \n",
    "    elif character == \"warrior\":\n",
    "        y = int(input(\"Enter 4 to slash, 5 to bash, 0 to skip action: \"))\n",
    "        if y == 4:\n",
    "            print(\"You have slashed with a sword!\")\n",
    "        elif y == 5:\n",
    "            print(\"You have bashed with a shield!\")\n",
    "        else:\n",
    "            print(\"You have done nothing.\")\n",
    "\n",
    "def explore_dungeon():\n",
    "    print(\"Exploring dungeon... \"*5 + \"Finding treasure... \"*5)\n",
    "\n",
    "def main():\n",
    "    character = choose_character()\n",
    "    enemy = choose_enemy()\n",
    "    attack(character)\n",
    "    explore_dungeon()\n",
    "\n",
    "if __name__ == \"__main__\":\n",
    "    main()\n"
   ]
  },
  {
   "cell_type": "markdown",
   "metadata": {},
   "source": [
    "# Part 3\n",
    "Refactor your partners lab 1 code so it is a clean function. Look at part 4 and see how you can adapt the code to fit project one. "
   ]
  },
  {
   "cell_type": "code",
   "execution_count": null,
   "metadata": {},
   "outputs": [],
   "source": [
    "x, y = 5, int(input(\"Enter a number: \"))\n",
    "print(f\"{x} {'is equal to' if x == y else 'is less than' if x < y else 'is more than'} {y}\")\n"
   ]
  },
  {
   "cell_type": "markdown",
   "id": "e589c6c8-f937-47e0-8db2-a37e03c12336",
   "metadata": {},
   "source": [
    "## Part 4 - take home but start in class                  \n",
    "# Project #1  introduction \n",
    "\n",
    "\n",
    "Your task is to develop a text-based video game focusing on the player profile, inventory system, and combat mechanics. Create a realistic player character with at least 10 inventory items, each with a description and an associated trait. Enjoy the process!\n",
    "\n",
    "Incorporate all the concepts we've covered so far, including files (read and write), JSON, operators, lists, optional tuples, functions, modules, and classes.\n",
    "\n",
    "### Requirements:\n",
    "- **Player Type Selection**: Allow players to choose their character type. Set attributes based on the choice (e.g., wizard: magic = 10, knight: magic = 0).\n",
    "- **Inventory Display**: Implement a function to show the player's inventory.\n",
    "- **Item Details**: Write a function to provide detailed information about an inventory item (e.g., Knife: \"forged in the depths of Polymar\", +5 magic, edged weapon, one-handed).\n",
    "  - Bonus: Calculate bonuses when equipping and unequipping items.\n",
    "- **Inventory Management**: Create functions to add and remove items from the inventory.\n",
    "- **Persistence**: Ensure the game can save and reload the player's character using files.\n",
    "\n",
    "Focus on building the player and inventory system for your text-based adventure game (similar to Zork). The map and gameplay can be developed later.\n",
    "\n",
    "### Game Features:\n",
    "- **Player Profile**: Include player stats.\n",
    "- **Inventory System**: Implement a bag to hold items.\n",
    "- **Items**: Include 10 items, each with a description and trait (e.g., +5 magic).\n",
    "- **Concepts**: Utilize functions, loops, arrays, classes, and constants. You may also use files and structs if desired.\n",
    "- **Player Type Selection**: Allow players to choose their character type and set attributes accordingly (e.g., wizard: magic = 10, knight: magic = 0).\n",
    "- **Inventory Display**: Implement a function to show the player's inventory.\n",
    "- **Code Quality**: Keep your code clean and consider various player needs, as this project will be handed off to a partner for further development.\n",
    "\n"
   ]
  },
  {
   "cell_type": "markdown",
   "id": "1fe3ba5e-722b-4ed8-b36f-c9ebd718bd7d",
   "metadata": {},
   "source": [
    "# Project 1 - Part 1\n",
    "Spend time planning out your code. You may work with your partner to plan out your code. How would you like your game to play? \n",
    "\n",
    "Use a UML planner like: \n",
    "\n",
    "\n",
    "https://miro.com/\n"
   ]
  },
  {
   "cell_type": "code",
   "execution_count": null,
   "id": "3bdce5be-0a31-4cf9-ba17-0f5be8cefc33",
   "metadata": {},
   "outputs": [],
   "source": []
  }
 ],
 "metadata": {
  "kernelspec": {
   "display_name": "Python 3",
   "language": "python",
   "name": "python3"
  },
  "language_info": {
   "codemirror_mode": {
    "name": "ipython",
    "version": 3
   },
   "file_extension": ".py",
   "mimetype": "text/x-python",
   "name": "python",
   "nbconvert_exporter": "python",
   "pygments_lexer": "ipython3",
   "version": "3.9.6"
  }
 },
 "nbformat": 4,
 "nbformat_minor": 5
}
