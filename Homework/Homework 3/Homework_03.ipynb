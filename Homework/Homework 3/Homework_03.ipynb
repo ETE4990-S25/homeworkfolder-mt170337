{
 "cells": [
  {
   "cell_type": "markdown",
   "metadata": {},
   "source": [
    "# Homework #3: \n",
    "Creating and Using Python Classes with JSON\n",
    "\n",
    "## Instructions:\n",
    "### 1. Create a Python file named `data_classes.py` with the following content:\n",
    "- Define a class `Person` with attributes `name`, `age`, and `email`.\n",
    "- Define a class `Student` that inherits from `Person` and adds an attribute `student_id`.\n",
    "- Include a method to save the data of these instances into a JSON file.\n",
    "- Include a method to display the JSON content on the screen.\n",
    "\n",
    "\n",
    "hints:\n",
    "```python\n",
    "class Person(object):\n",
    "    #do stuff\n",
    "\n",
    "class Student(Person):\n",
    "    #do stuff\n",
    "\n",
    "\n",
    "#use json.dump \n",
    "'last_name': fake.last_name()\n",
    "'first_name': fake.first_name()\n",
    "'email': fake.email()\n",
    "'student_id': fake.age\n",
    "```\n",
    "\n",
    "### 2. Write a Jupyter Notebook that:\n",
    "- Imports the classes from `data_classes.py`.\n",
    "- Creates instances of `Person` and `Student`.\n",
    " - Calls the methods to save data to a JSON file and display the JSON content.\n",
    "\n",
    "```python\n",
    "from data_classes import Student as dc\n",
    "from data_classes import Saver\n",
    "bill = dc(\"bill\",12,\"bill@cool.com\",1234)\n",
    "saver(bill)\n",
    "```\n",
    "\n",
    "###  Step 3: Verify the JSON file content\n",
    "This step should be done by running the display_json method in the Jupyter Notebook I expect you to use your Jupyter notebook to explain any work and thought processes you had while working on your Homework. Consider your Jupyter notebook your \"Lab Report\" and the Homework is your .py file.\n",
    "\n"
   ]
  },
  {
   "cell_type": "markdown",
   "metadata": {},
   "source": [
    "\n",
    "\n",
    "\n",
    "\n",
    "\n",
    "Your json file should look like the following when you are done\n",
    "\n",
    "```JSON\n",
    "[\n",
    "    {\n",
    "        \"last_name\": \"Taylor\", \n",
    "        \"first_name\": \"Jose\", \n",
    "        \"street_address\": \"571 Travis Forest Suite 210\", \n",
    "        \"email\": \"marysanchez@example.org\", \"age\": \"Saturday 30. August 2008\", \"index\": 0\n",
    "    },\n",
    "    {\n",
    "        \"last_name\": \"Stevenson\", \n",
    "        \"first_name\": \"Tyler\", \n",
    "        \"street_address\": \"529 Washington Neck\", \n",
    "        \"email\": \"leekatrina@example.org\", \n",
    "        \"age\": \"Wednesday 25. January 1995\", \n",
    "        \"index\": 1\n",
    "    } \n",
    "]\n",
    "```"
   ]
  },
  {
   "cell_type": "code",
   "execution_count": null,
   "metadata": {},
   "outputs": [],
   "source": [
    "# code in dataclasses.py\n",
    "\n",
    "import json\n",
    "save_file_name = \"savefile.json\"\n",
    "save_file_list = []\n",
    "\n",
    "#person and child class student\n",
    "class Person(object):\n",
    "    def __init__(self,name,age,email):\n",
    "        self.name = name\n",
    "        self.age = age\n",
    "        self.email = email\n",
    "\n",
    "\n",
    "class Student(Person):\n",
    "    def __init__(self, name, age, email, student_id):\n",
    "        super().__init__(name, age, email)\n",
    "        self.student_id = student_id\n",
    "\n",
    "# saver and loader code\n",
    "def saver(obj):\n",
    "    if isinstance(obj,Person):\n",
    "        save_file_list.append(obj.__dict__)\n",
    "\n",
    "        with open(save_file_name, 'w') as file:\n",
    "            json.dump(save_file_list, file)\n",
    "\n",
    "def loader():\n",
    "    with open(save_file_name) as file:\n",
    "        save_file_list = json.load(file)\n",
    "    print(json.dumps(save_file_list, indent=2))\n"
   ]
  },
  {
   "cell_type": "markdown",
   "metadata": {},
   "source": [
    "# code explanation\n",
    "I first make a list to put all the dictionaries I want to save in and make an easy name for the name of the json file. \n",
    "\n",
    "person just saves name, age, and email\n",
    "Student is a child class that adds student_id\n",
    "\n",
    "Saver adds an object as a dictionary to the save_file_list. Then rewrites the json to be the new save_file_list.\n",
    "it also checks if the obj is at least a person\n",
    "\n",
    "Loader opens the json and stores it in the save_file_list\n",
    "then it prints out the new save_file_list "
   ]
  },
  {
   "cell_type": "code",
   "execution_count": null,
   "metadata": {},
   "outputs": [
    {
     "name": "stdout",
     "output_type": "stream",
     "text": [
      "[\n",
      "  {\n",
      "    \"name\": \"bill\",\n",
      "    \"age\": 12,\n",
      "    \"email\": \"bill@cool.com\",\n",
      "    \"student_id\": 1234\n",
      "  }\n",
      "]\n",
      "[\n",
      "  {\n",
      "    \"name\": \"bill\",\n",
      "    \"age\": 12,\n",
      "    \"email\": \"bill@cool.com\",\n",
      "    \"student_id\": 1234\n",
      "  },\n",
      "  {\n",
      "    \"name\": \"John\",\n",
      "    \"age\": 39,\n",
      "    \"email\": \"john@mail.cob\"\n",
      "  }\n",
      "]\n"
     ]
    }
   ],
   "source": [
    "import HW3dataclasses\n",
    "import json\n",
    "\n",
    "\n",
    "bill = HW3dataclasses.Student(\"bill\",12,\"bill@cool.com\",1234)\n",
    "john = HW3dataclasses.Person(\"John\", 39, \"john@mail.cob\")\n",
    "\n",
    "HW3dataclasses.saver(bill)\n",
    "HW3dataclasses.loader()\n",
    "HW3dataclasses.saver(john)\n",
    "HW3dataclasses.loader()"
   ]
  },
  {
   "cell_type": "markdown",
   "metadata": {},
   "source": [
    "# test explanation\n",
    "instanciates bill and john as a student and person respectively\n",
    "\n",
    "saves bill and then loads the json file to show that bill was in the json\n",
    "saves john and then loads the json to show that the file contains both bill and john"
   ]
  },
  {
   "cell_type": "code",
   "execution_count": null,
   "metadata": {},
   "outputs": [],
   "source": [
    "# this function just empties out save file list as if the program was restarted\n",
    "# also empties json files for testing \n",
    "\n",
    "HW3dataclasses.save_file_list = [] \n",
    "\n",
    "with open(HW3dataclasses.save_file_name, \"w\") as file:\n",
    "    json.dump({}, file)"
   ]
  },
  {
   "cell_type": "code",
   "execution_count": null,
   "metadata": {},
   "outputs": [],
   "source": []
  },
  {
   "cell_type": "code",
   "execution_count": null,
   "metadata": {},
   "outputs": [],
   "source": []
  }
 ],
 "metadata": {
  "kernelspec": {
   "display_name": "base",
   "language": "python",
   "name": "python3"
  },
  "language_info": {
   "codemirror_mode": {
    "name": "ipython",
    "version": 3
   },
   "file_extension": ".py",
   "mimetype": "text/x-python",
   "name": "python",
   "nbconvert_exporter": "python",
   "pygments_lexer": "ipython3",
   "version": "3.12.7"
  }
 },
 "nbformat": 4,
 "nbformat_minor": 2
}
